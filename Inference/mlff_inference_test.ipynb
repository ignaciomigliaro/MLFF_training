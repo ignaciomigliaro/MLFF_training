{
 "cells": [
  {
   "cell_type": "markdown",
   "metadata": {
    "tags": []
   },
   "source": [
    "# Jupyter notebook to test MLFF models "
   ]
  },
  {
   "cell_type": "code",
   "execution_count": 9,
   "metadata": {
    "tags": []
   },
   "outputs": [],
   "source": [
    "import inference_functions as ifs\n",
    "import importlib\n",
    "import pandas as pd"
   ]
  },
  {
   "cell_type": "code",
   "execution_count": 10,
   "metadata": {
    "tags": []
   },
   "outputs": [
    {
     "data": {
      "text/plain": [
       "<module 'inference_functions' from '/mnt/e/Documents/GitHub/MLFF_training/Inference/inference_functions.py'>"
      ]
     },
     "execution_count": 10,
     "metadata": {},
     "output_type": "execute_result"
    }
   ],
   "source": [
    "importlib.reload(ifs)"
   ]
  },
  {
   "cell_type": "markdown",
   "metadata": {
    "tags": []
   },
   "source": [
    "## Runs Inference for Mace and Chgnet"
   ]
  },
  {
   "cell_type": "markdown",
   "metadata": {
    "tags": []
   },
   "source": [
    "### Parse test set"
   ]
  },
  {
   "cell_type": "code",
   "execution_count": 11,
   "metadata": {
    "tags": []
   },
   "outputs": [
    {
     "name": "stderr",
     "output_type": "stream",
     "text": [
      "Processing:   0%|                                                                                                                                                                                                                                                | 0/16 [00:00<?, ?it/s]"
     ]
    },
    {
     "name": "stdout",
     "output_type": "stream",
     "text": [
      "Error reading file: /home/nacho/NbOC/vasp/test_set/finished_calcs/test/OUTCAR\n",
      "Error details: [Errno 2] No such file or directory: '/home/nacho/NbOC/vasp/test_set/finished_calcs/test/OUTCAR'\n"
     ]
    },
    {
     "name": "stderr",
     "output_type": "stream",
     "text": [
      "Processing: 100%|███████████████████████████████████████████████████████████████████████████████████████████████████████████████████████████████████████████████████████████████████████████████████████████████████████████████████████████████████████| 16/16 [00:03<00:00,  4.97it/s]\n"
     ]
    }
   ],
   "source": [
    "filepath = '/home/nacho/NbOC/vasp/test_set/finished_calcs/'\n",
    "atoms_list,opt_atoms_list = ifs.read_dft(filepath)\n"
   ]
  },
  {
   "cell_type": "markdown",
   "metadata": {
    "tags": []
   },
   "source": [
    "### Run inference using MLFF"
   ]
  },
  {
   "cell_type": "code",
   "execution_count": 12,
   "metadata": {
    "tags": []
   },
   "outputs": [
    {
     "name": "stdout",
     "output_type": "stream",
     "text": [
      "Running CHgnet\n"
     ]
    }
   ],
   "source": [
    "df_0407= ifs.inference(atoms_list,opt_atoms_list,'/home/nacho/NbOC/CHGnet/04-07-2024/bestE_epoch38_e888_f7250_s3257_mNA.pth.tar',calc_correlation=True)\n"
   ]
  },
  {
   "cell_type": "code",
   "execution_count": 13,
   "metadata": {
    "tags": []
   },
   "outputs": [
    {
     "data": {
      "text/html": [
       "<div>\n",
       "<style scoped>\n",
       "    .dataframe tbody tr th:only-of-type {\n",
       "        vertical-align: middle;\n",
       "    }\n",
       "\n",
       "    .dataframe tbody tr th {\n",
       "        vertical-align: top;\n",
       "    }\n",
       "\n",
       "    .dataframe thead th {\n",
       "        text-align: right;\n",
       "    }\n",
       "</style>\n",
       "<table border=\"1\" class=\"dataframe\">\n",
       "  <thead>\n",
       "    <tr style=\"text-align: right;\">\n",
       "      <th></th>\n",
       "      <th>File</th>\n",
       "      <th>DFT E</th>\n",
       "      <th>MLFF E</th>\n",
       "      <th>ΔE</th>\n",
       "      <th>DFT Forces</th>\n",
       "      <th>MLFF Forces</th>\n",
       "      <th>Forces MSE</th>\n",
       "      <th>natom</th>\n",
       "      <th>DFT Rank</th>\n",
       "      <th>MLFF Rank</th>\n",
       "    </tr>\n",
       "  </thead>\n",
       "  <tbody>\n",
       "    <tr>\n",
       "      <th>0</th>\n",
       "      <td>struct5_natom4</td>\n",
       "      <td>-7.818</td>\n",
       "      <td>-8.301</td>\n",
       "      <td>0.483</td>\n",
       "      <td>-8.333333e-08</td>\n",
       "      <td>1.490116e-08</td>\n",
       "      <td>0.398</td>\n",
       "      <td>4</td>\n",
       "      <td>1</td>\n",
       "      <td>1</td>\n",
       "    </tr>\n",
       "    <tr>\n",
       "      <th>1</th>\n",
       "      <td>struct1_natom4</td>\n",
       "      <td>-7.743</td>\n",
       "      <td>-8.301</td>\n",
       "      <td>0.558</td>\n",
       "      <td>0.000000e+00</td>\n",
       "      <td>-1.893689e-08</td>\n",
       "      <td>0.000</td>\n",
       "      <td>4</td>\n",
       "      <td>2</td>\n",
       "      <td>1</td>\n",
       "    </tr>\n",
       "    <tr>\n",
       "      <th>2</th>\n",
       "      <td>struct3_natom4</td>\n",
       "      <td>-6.854</td>\n",
       "      <td>-7.546</td>\n",
       "      <td>0.692</td>\n",
       "      <td>0.000000e+00</td>\n",
       "      <td>-7.947286e-08</td>\n",
       "      <td>1.682</td>\n",
       "      <td>4</td>\n",
       "      <td>5</td>\n",
       "      <td>3</td>\n",
       "    </tr>\n",
       "    <tr>\n",
       "      <th>3</th>\n",
       "      <td>struct2_natom4</td>\n",
       "      <td>-6.824</td>\n",
       "      <td>-6.876</td>\n",
       "      <td>0.052</td>\n",
       "      <td>0.000000e+00</td>\n",
       "      <td>-2.360927e-08</td>\n",
       "      <td>0.000</td>\n",
       "      <td>4</td>\n",
       "      <td>6</td>\n",
       "      <td>6</td>\n",
       "    </tr>\n",
       "    <tr>\n",
       "      <th>4</th>\n",
       "      <td>struct4_natom4</td>\n",
       "      <td>-5.824</td>\n",
       "      <td>-6.425</td>\n",
       "      <td>0.601</td>\n",
       "      <td>0.000000e+00</td>\n",
       "      <td>-1.940837e-07</td>\n",
       "      <td>0.000</td>\n",
       "      <td>4</td>\n",
       "      <td>9</td>\n",
       "      <td>9</td>\n",
       "    </tr>\n",
       "    <tr>\n",
       "      <th>5</th>\n",
       "      <td>struct3_natom16</td>\n",
       "      <td>-6.967</td>\n",
       "      <td>-7.531</td>\n",
       "      <td>0.564</td>\n",
       "      <td>0.000000e+00</td>\n",
       "      <td>2.296444e-08</td>\n",
       "      <td>0.000</td>\n",
       "      <td>16</td>\n",
       "      <td>3</td>\n",
       "      <td>4</td>\n",
       "    </tr>\n",
       "    <tr>\n",
       "      <th>6</th>\n",
       "      <td>struct2_natom16</td>\n",
       "      <td>-6.870</td>\n",
       "      <td>-7.121</td>\n",
       "      <td>0.252</td>\n",
       "      <td>0.000000e+00</td>\n",
       "      <td>0.000000e+00</td>\n",
       "      <td>0.096</td>\n",
       "      <td>16</td>\n",
       "      <td>4</td>\n",
       "      <td>5</td>\n",
       "    </tr>\n",
       "    <tr>\n",
       "      <th>7</th>\n",
       "      <td>struct5_natom16</td>\n",
       "      <td>-6.510</td>\n",
       "      <td>-6.874</td>\n",
       "      <td>0.364</td>\n",
       "      <td>0.000000e+00</td>\n",
       "      <td>2.483527e-08</td>\n",
       "      <td>1.269</td>\n",
       "      <td>16</td>\n",
       "      <td>7</td>\n",
       "      <td>7</td>\n",
       "    </tr>\n",
       "    <tr>\n",
       "      <th>8</th>\n",
       "      <td>struct4_natom16</td>\n",
       "      <td>-6.418</td>\n",
       "      <td>-6.571</td>\n",
       "      <td>0.153</td>\n",
       "      <td>0.000000e+00</td>\n",
       "      <td>-1.986822e-08</td>\n",
       "      <td>0.428</td>\n",
       "      <td>16</td>\n",
       "      <td>8</td>\n",
       "      <td>8</td>\n",
       "    </tr>\n",
       "    <tr>\n",
       "      <th>9</th>\n",
       "      <td>struct1_natom16</td>\n",
       "      <td>-1.943</td>\n",
       "      <td>-3.471</td>\n",
       "      <td>1.528</td>\n",
       "      <td>0.000000e+00</td>\n",
       "      <td>-7.947286e-08</td>\n",
       "      <td>15.250</td>\n",
       "      <td>16</td>\n",
       "      <td>15</td>\n",
       "      <td>15</td>\n",
       "    </tr>\n",
       "    <tr>\n",
       "      <th>10</th>\n",
       "      <td>struct3_natom64</td>\n",
       "      <td>-5.238</td>\n",
       "      <td>-5.530</td>\n",
       "      <td>0.292</td>\n",
       "      <td>0.000000e+00</td>\n",
       "      <td>-2.185504e-07</td>\n",
       "      <td>6.020</td>\n",
       "      <td>64</td>\n",
       "      <td>10</td>\n",
       "      <td>10</td>\n",
       "    </tr>\n",
       "    <tr>\n",
       "      <th>11</th>\n",
       "      <td>struct2_natom64</td>\n",
       "      <td>-4.159</td>\n",
       "      <td>-4.409</td>\n",
       "      <td>0.250</td>\n",
       "      <td>-1.295260e-16</td>\n",
       "      <td>7.947286e-08</td>\n",
       "      <td>5.648</td>\n",
       "      <td>64</td>\n",
       "      <td>14</td>\n",
       "      <td>14</td>\n",
       "    </tr>\n",
       "    <tr>\n",
       "      <th>12</th>\n",
       "      <td>struct3_natom256</td>\n",
       "      <td>-4.788</td>\n",
       "      <td>-5.038</td>\n",
       "      <td>0.250</td>\n",
       "      <td>1.302083e-08</td>\n",
       "      <td>-1.887480e-07</td>\n",
       "      <td>31.645</td>\n",
       "      <td>256</td>\n",
       "      <td>11</td>\n",
       "      <td>11</td>\n",
       "    </tr>\n",
       "    <tr>\n",
       "      <th>13</th>\n",
       "      <td>struct5_natom256</td>\n",
       "      <td>-4.404</td>\n",
       "      <td>-4.654</td>\n",
       "      <td>0.250</td>\n",
       "      <td>-6.245005e-17</td>\n",
       "      <td>1.862645e-07</td>\n",
       "      <td>12.323</td>\n",
       "      <td>256</td>\n",
       "      <td>12</td>\n",
       "      <td>12</td>\n",
       "    </tr>\n",
       "    <tr>\n",
       "      <th>14</th>\n",
       "      <td>struct4_natom256</td>\n",
       "      <td>-4.280</td>\n",
       "      <td>-4.596</td>\n",
       "      <td>0.316</td>\n",
       "      <td>-5.208333e-09</td>\n",
       "      <td>7.947286e-08</td>\n",
       "      <td>9.855</td>\n",
       "      <td>256</td>\n",
       "      <td>13</td>\n",
       "      <td>13</td>\n",
       "    </tr>\n",
       "  </tbody>\n",
       "</table>\n",
       "</div>"
      ],
      "text/plain": [
       "                File  DFT E  MLFF E     ΔE    DFT Forces   MLFF Forces  \\\n",
       "0     struct5_natom4 -7.818  -8.301  0.483 -8.333333e-08  1.490116e-08   \n",
       "1     struct1_natom4 -7.743  -8.301  0.558  0.000000e+00 -1.893689e-08   \n",
       "2     struct3_natom4 -6.854  -7.546  0.692  0.000000e+00 -7.947286e-08   \n",
       "3     struct2_natom4 -6.824  -6.876  0.052  0.000000e+00 -2.360927e-08   \n",
       "4     struct4_natom4 -5.824  -6.425  0.601  0.000000e+00 -1.940837e-07   \n",
       "5    struct3_natom16 -6.967  -7.531  0.564  0.000000e+00  2.296444e-08   \n",
       "6    struct2_natom16 -6.870  -7.121  0.252  0.000000e+00  0.000000e+00   \n",
       "7    struct5_natom16 -6.510  -6.874  0.364  0.000000e+00  2.483527e-08   \n",
       "8    struct4_natom16 -6.418  -6.571  0.153  0.000000e+00 -1.986822e-08   \n",
       "9    struct1_natom16 -1.943  -3.471  1.528  0.000000e+00 -7.947286e-08   \n",
       "10   struct3_natom64 -5.238  -5.530  0.292  0.000000e+00 -2.185504e-07   \n",
       "11   struct2_natom64 -4.159  -4.409  0.250 -1.295260e-16  7.947286e-08   \n",
       "12  struct3_natom256 -4.788  -5.038  0.250  1.302083e-08 -1.887480e-07   \n",
       "13  struct5_natom256 -4.404  -4.654  0.250 -6.245005e-17  1.862645e-07   \n",
       "14  struct4_natom256 -4.280  -4.596  0.316 -5.208333e-09  7.947286e-08   \n",
       "\n",
       "    Forces MSE  natom  DFT Rank  MLFF Rank  \n",
       "0        0.398      4         1          1  \n",
       "1        0.000      4         2          1  \n",
       "2        1.682      4         5          3  \n",
       "3        0.000      4         6          6  \n",
       "4        0.000      4         9          9  \n",
       "5        0.000     16         3          4  \n",
       "6        0.096     16         4          5  \n",
       "7        1.269     16         7          7  \n",
       "8        0.428     16         8          8  \n",
       "9       15.250     16        15         15  \n",
       "10       6.020     64        10         10  \n",
       "11       5.648     64        14         14  \n",
       "12      31.645    256        11         11  \n",
       "13      12.323    256        12         12  \n",
       "14       9.855    256        13         13  "
      ]
     },
     "execution_count": 13,
     "metadata": {},
     "output_type": "execute_result"
    }
   ],
   "source": [
    "df_0407"
   ]
  },
  {
   "cell_type": "code",
   "execution_count": 17,
   "metadata": {
    "tags": []
   },
   "outputs": [
    {
     "name": "stdout",
     "output_type": "stream",
     "text": [
      "Running CHgnet\n",
      "Running CHgnet\n",
      "Running CHgnet\n",
      "Running CHgnet\n",
      "Running CHgnet\n",
      "Running CHgnet\n",
      "Running CHgnet\n",
      "Running CHgnet\n",
      "Running CHgnet\n",
      "Running CHgnet\n",
      "Running MACE\n",
      "Running MACE\n",
      "Running MACE\n",
      "Running CHgnet\n",
      "Running CHgnet\n",
      "Running CHgnet\n"
     ]
    }
   ],
   "source": [
    "df_0407= ifs.inference(atoms_list,opt_atoms_list,'/home/nacho/NbOC/CHGnet/04-07-2024/bestE_epoch38_e888_f7250_s3257_mNA.pth.tar',calc_correlation=True)\n",
    "df_0415 = ifs.inference(atoms_list,opt_atoms_list,'/home/nacho/NbOC/CHGnet/04-15-2024/bestE_epoch34_e114_f323_s1109_mNA.pth.tar',calc_correlation=True)\n",
    "df_0429 = ifs.inference(atoms_list,opt_atoms_list,'/home/nacho/NbOC/CHGnet/04-29-2024/bestE_epoch40_e54_f723_s1061_mNA.pth.tar')\n",
    "df_0529 = ifs.inference(atoms_list,opt_atoms_list,'/home/nacho/NbOC/CHGnet/relaxed_052924-290524.p/bestE_epoch26_e383_f495_s1317_mNA.pth.tar',calc_correlation=True)\n",
    "df_0415 = ifs.inference(atoms_list,opt_atoms_list,'/home/nacho/NbOC/CHGnet/04-15-2024/bestE_epoch34_e114_f323_s1109_mNA.pth.tar')\n",
    "df_long68 = ifs.inference(atoms_list,opt_atoms_list,'/home/nacho/NbOC/CHGnet/long_68_aimd-120524/bestE_epoch20_e2_f52_s37_mNA.pth.tar',calc_correlation=True)\n",
    "df_long0526 = ifs.inference(atoms_list,opt_atoms_list,'/home/nacho/NbOC/CHGnet/data_052624_mixed-290524.p/bestE_epoch28_e56_f272_s755_mNA.pth.tar',calc_correlation=True)\n",
    "df_all = ifs.inference(atoms_list,opt_atoms_list,'/home/nacho/NbOC/CHGnet/all_AIMD_52424-240524.p/bestE_epoch32_e4_f87_s330_mNA.pth.tar',calc_correlation=True)\n",
    "df_061024 = ifs.inference(atoms_list,opt_atoms_list,'/home/nacho/NbOC/CHGnet/all_data_060924-090624.p/bestE_epoch43_e82_f300_s1347_mNA.pth.tar',calc_correlation=True)\n",
    "df_binary = ifs.inference(atoms_list,opt_atoms_list,'/home/nacho/NbOC/CHGnet/binary_061024-100624.p/bestE_epoch45_e5_f87_s170_mNA.pth.tar',calc_correlation=True)\n",
    "df_mace = ifs.inference(atoms_list,opt_atoms_list,'/home/nacho/NbOC/MACE/2024-01-07-mace-128-L2_epoch-199.model',mace_flag=True,calc_correlation=True)\n",
    "df_mace_small = ifs.inference(atoms_list,opt_atoms_list,'/home/nacho/NbOC/MACE/L0-small.model',mace_flag=True,calc_correlation=True)\n",
    "df_clean_relaxed = ifs.inference(atoms_list,opt_atoms_list,'/home/nacho/NbOC/MACE/clean_relaxed.model',mace_flag=True,calc_correlation=True)\n",
    "all_data_1 = ifs.inference(atoms_list,opt_atoms_list,'/home/nacho/NbOC/CHGnet/2024-06-21_20-04-35/bestE_epoch44_e69_f271_s1361_mNA.pth.tar',calc_correlation=True)\n",
    "all_data_2 = ifs.inference(atoms_list,opt_atoms_list,'/home/nacho/NbOC/CHGnet/2024-06-21_20-04-37/bestE_epoch28_e71_f276_s1349_mNA.pth.tar',calc_correlation=True)\n",
    "all_data_3 = ifs.inference(atoms_list,opt_atoms_list,'/home/nacho/NbOC/CHGnet/2024-06-21_20-04-42/bestE_epoch37_e70_f813_s1407_mNA.pth.tar',calc_correlation=True )       "
   ]
  },
  {
   "cell_type": "markdown",
   "metadata": {
    "tags": []
   },
   "source": [
    "## Example of a MLFF model Dataframe "
   ]
  },
  {
   "cell_type": "code",
   "execution_count": 18,
   "metadata": {
    "tags": []
   },
   "outputs": [
    {
     "data": {
      "text/html": [
       "<div>\n",
       "<style scoped>\n",
       "    .dataframe tbody tr th:only-of-type {\n",
       "        vertical-align: middle;\n",
       "    }\n",
       "\n",
       "    .dataframe tbody tr th {\n",
       "        vertical-align: top;\n",
       "    }\n",
       "\n",
       "    .dataframe thead th {\n",
       "        text-align: right;\n",
       "    }\n",
       "</style>\n",
       "<table border=\"1\" class=\"dataframe\">\n",
       "  <thead>\n",
       "    <tr style=\"text-align: right;\">\n",
       "      <th></th>\n",
       "      <th>File</th>\n",
       "      <th>DFT E</th>\n",
       "      <th>MLFF E</th>\n",
       "      <th>ΔE</th>\n",
       "      <th>DFT Forces</th>\n",
       "      <th>MLFF Forces</th>\n",
       "      <th>Forces MSE</th>\n",
       "      <th>natom</th>\n",
       "      <th>DFT Rank</th>\n",
       "      <th>MLFF Rank</th>\n",
       "    </tr>\n",
       "  </thead>\n",
       "  <tbody>\n",
       "    <tr>\n",
       "      <th>0</th>\n",
       "      <td>struct5_natom4</td>\n",
       "      <td>-7.818</td>\n",
       "      <td>-8.282</td>\n",
       "      <td>0.464</td>\n",
       "      <td>-8.333333e-08</td>\n",
       "      <td>4.470348e-08</td>\n",
       "      <td>0.040</td>\n",
       "      <td>4</td>\n",
       "      <td>1</td>\n",
       "      <td>1</td>\n",
       "    </tr>\n",
       "    <tr>\n",
       "      <th>1</th>\n",
       "      <td>struct1_natom4</td>\n",
       "      <td>-7.743</td>\n",
       "      <td>-8.195</td>\n",
       "      <td>0.452</td>\n",
       "      <td>0.000000e+00</td>\n",
       "      <td>8.731149e-09</td>\n",
       "      <td>0.060</td>\n",
       "      <td>4</td>\n",
       "      <td>2</td>\n",
       "      <td>2</td>\n",
       "    </tr>\n",
       "    <tr>\n",
       "      <th>2</th>\n",
       "      <td>struct3_natom4</td>\n",
       "      <td>-6.854</td>\n",
       "      <td>-7.403</td>\n",
       "      <td>0.549</td>\n",
       "      <td>0.000000e+00</td>\n",
       "      <td>-3.973643e-08</td>\n",
       "      <td>0.871</td>\n",
       "      <td>4</td>\n",
       "      <td>5</td>\n",
       "      <td>4</td>\n",
       "    </tr>\n",
       "    <tr>\n",
       "      <th>3</th>\n",
       "      <td>struct2_natom4</td>\n",
       "      <td>-6.824</td>\n",
       "      <td>-7.039</td>\n",
       "      <td>0.214</td>\n",
       "      <td>0.000000e+00</td>\n",
       "      <td>-9.873399e-09</td>\n",
       "      <td>0.000</td>\n",
       "      <td>4</td>\n",
       "      <td>6</td>\n",
       "      <td>6</td>\n",
       "    </tr>\n",
       "    <tr>\n",
       "      <th>4</th>\n",
       "      <td>struct4_natom4</td>\n",
       "      <td>-5.824</td>\n",
       "      <td>-6.511</td>\n",
       "      <td>0.687</td>\n",
       "      <td>0.000000e+00</td>\n",
       "      <td>1.133109e-08</td>\n",
       "      <td>0.000</td>\n",
       "      <td>4</td>\n",
       "      <td>9</td>\n",
       "      <td>9</td>\n",
       "    </tr>\n",
       "    <tr>\n",
       "      <th>5</th>\n",
       "      <td>struct3_natom16</td>\n",
       "      <td>-6.967</td>\n",
       "      <td>-7.412</td>\n",
       "      <td>0.446</td>\n",
       "      <td>0.000000e+00</td>\n",
       "      <td>2.500443e-08</td>\n",
       "      <td>0.000</td>\n",
       "      <td>16</td>\n",
       "      <td>3</td>\n",
       "      <td>3</td>\n",
       "    </tr>\n",
       "    <tr>\n",
       "      <th>6</th>\n",
       "      <td>struct2_natom16</td>\n",
       "      <td>-6.870</td>\n",
       "      <td>-7.119</td>\n",
       "      <td>0.249</td>\n",
       "      <td>0.000000e+00</td>\n",
       "      <td>9.934108e-09</td>\n",
       "      <td>0.097</td>\n",
       "      <td>16</td>\n",
       "      <td>4</td>\n",
       "      <td>5</td>\n",
       "    </tr>\n",
       "    <tr>\n",
       "      <th>7</th>\n",
       "      <td>struct5_natom16</td>\n",
       "      <td>-6.510</td>\n",
       "      <td>-6.857</td>\n",
       "      <td>0.347</td>\n",
       "      <td>0.000000e+00</td>\n",
       "      <td>0.000000e+00</td>\n",
       "      <td>0.425</td>\n",
       "      <td>16</td>\n",
       "      <td>7</td>\n",
       "      <td>7</td>\n",
       "    </tr>\n",
       "    <tr>\n",
       "      <th>8</th>\n",
       "      <td>struct4_natom16</td>\n",
       "      <td>-6.418</td>\n",
       "      <td>-6.694</td>\n",
       "      <td>0.276</td>\n",
       "      <td>0.000000e+00</td>\n",
       "      <td>0.000000e+00</td>\n",
       "      <td>0.035</td>\n",
       "      <td>16</td>\n",
       "      <td>8</td>\n",
       "      <td>8</td>\n",
       "    </tr>\n",
       "    <tr>\n",
       "      <th>9</th>\n",
       "      <td>struct1_natom16</td>\n",
       "      <td>-1.943</td>\n",
       "      <td>-3.086</td>\n",
       "      <td>1.143</td>\n",
       "      <td>0.000000e+00</td>\n",
       "      <td>-2.781550e-07</td>\n",
       "      <td>1.638</td>\n",
       "      <td>16</td>\n",
       "      <td>15</td>\n",
       "      <td>15</td>\n",
       "    </tr>\n",
       "    <tr>\n",
       "      <th>10</th>\n",
       "      <td>struct3_natom64</td>\n",
       "      <td>-5.238</td>\n",
       "      <td>-5.831</td>\n",
       "      <td>0.594</td>\n",
       "      <td>0.000000e+00</td>\n",
       "      <td>-9.934108e-09</td>\n",
       "      <td>4.404</td>\n",
       "      <td>64</td>\n",
       "      <td>10</td>\n",
       "      <td>10</td>\n",
       "    </tr>\n",
       "    <tr>\n",
       "      <th>11</th>\n",
       "      <td>struct2_natom64</td>\n",
       "      <td>-4.159</td>\n",
       "      <td>-4.669</td>\n",
       "      <td>0.510</td>\n",
       "      <td>-1.295260e-16</td>\n",
       "      <td>1.986821e-07</td>\n",
       "      <td>2.944</td>\n",
       "      <td>64</td>\n",
       "      <td>14</td>\n",
       "      <td>14</td>\n",
       "    </tr>\n",
       "    <tr>\n",
       "      <th>12</th>\n",
       "      <td>struct3_natom256</td>\n",
       "      <td>-4.788</td>\n",
       "      <td>-5.019</td>\n",
       "      <td>0.231</td>\n",
       "      <td>1.302083e-08</td>\n",
       "      <td>-3.973643e-08</td>\n",
       "      <td>36.965</td>\n",
       "      <td>256</td>\n",
       "      <td>11</td>\n",
       "      <td>12</td>\n",
       "    </tr>\n",
       "    <tr>\n",
       "      <th>13</th>\n",
       "      <td>struct5_natom256</td>\n",
       "      <td>-4.404</td>\n",
       "      <td>-5.172</td>\n",
       "      <td>0.769</td>\n",
       "      <td>-6.245005e-17</td>\n",
       "      <td>-3.476937e-08</td>\n",
       "      <td>12.477</td>\n",
       "      <td>256</td>\n",
       "      <td>12</td>\n",
       "      <td>11</td>\n",
       "    </tr>\n",
       "    <tr>\n",
       "      <th>14</th>\n",
       "      <td>struct4_natom256</td>\n",
       "      <td>-4.280</td>\n",
       "      <td>-4.702</td>\n",
       "      <td>0.422</td>\n",
       "      <td>-5.208333e-09</td>\n",
       "      <td>3.973643e-08</td>\n",
       "      <td>5.045</td>\n",
       "      <td>256</td>\n",
       "      <td>13</td>\n",
       "      <td>13</td>\n",
       "    </tr>\n",
       "  </tbody>\n",
       "</table>\n",
       "</div>"
      ],
      "text/plain": [
       "                File  DFT E  MLFF E     ΔE    DFT Forces   MLFF Forces  \\\n",
       "0     struct5_natom4 -7.818  -8.282  0.464 -8.333333e-08  4.470348e-08   \n",
       "1     struct1_natom4 -7.743  -8.195  0.452  0.000000e+00  8.731149e-09   \n",
       "2     struct3_natom4 -6.854  -7.403  0.549  0.000000e+00 -3.973643e-08   \n",
       "3     struct2_natom4 -6.824  -7.039  0.214  0.000000e+00 -9.873399e-09   \n",
       "4     struct4_natom4 -5.824  -6.511  0.687  0.000000e+00  1.133109e-08   \n",
       "5    struct3_natom16 -6.967  -7.412  0.446  0.000000e+00  2.500443e-08   \n",
       "6    struct2_natom16 -6.870  -7.119  0.249  0.000000e+00  9.934108e-09   \n",
       "7    struct5_natom16 -6.510  -6.857  0.347  0.000000e+00  0.000000e+00   \n",
       "8    struct4_natom16 -6.418  -6.694  0.276  0.000000e+00  0.000000e+00   \n",
       "9    struct1_natom16 -1.943  -3.086  1.143  0.000000e+00 -2.781550e-07   \n",
       "10   struct3_natom64 -5.238  -5.831  0.594  0.000000e+00 -9.934108e-09   \n",
       "11   struct2_natom64 -4.159  -4.669  0.510 -1.295260e-16  1.986821e-07   \n",
       "12  struct3_natom256 -4.788  -5.019  0.231  1.302083e-08 -3.973643e-08   \n",
       "13  struct5_natom256 -4.404  -5.172  0.769 -6.245005e-17 -3.476937e-08   \n",
       "14  struct4_natom256 -4.280  -4.702  0.422 -5.208333e-09  3.973643e-08   \n",
       "\n",
       "    Forces MSE  natom  DFT Rank  MLFF Rank  \n",
       "0        0.040      4         1          1  \n",
       "1        0.060      4         2          2  \n",
       "2        0.871      4         5          4  \n",
       "3        0.000      4         6          6  \n",
       "4        0.000      4         9          9  \n",
       "5        0.000     16         3          3  \n",
       "6        0.097     16         4          5  \n",
       "7        0.425     16         7          7  \n",
       "8        0.035     16         8          8  \n",
       "9        1.638     16        15         15  \n",
       "10       4.404     64        10         10  \n",
       "11       2.944     64        14         14  \n",
       "12      36.965    256        11         12  \n",
       "13      12.477    256        12         11  \n",
       "14       5.045    256        13         13  "
      ]
     },
     "execution_count": 18,
     "metadata": {},
     "output_type": "execute_result"
    }
   ],
   "source": [
    "all_data_1"
   ]
  },
  {
   "cell_type": "markdown",
   "metadata": {
    "tags": []
   },
   "source": [
    "## Graphs comparing inference on a test set"
   ]
  },
  {
   "cell_type": "code",
   "execution_count": 19,
   "metadata": {
    "tags": []
   },
   "outputs": [
    {
     "data": {
      "image/png": "[encoded data removed]",
      "text/plain": [
       "<Figure size 640x480 with 1 Axes>"
      ]
     },
     "metadata": {},
     "output_type": "display_data"
    }
   ],
   "source": [
    "ifs.plot_mlff_dft_rank(all_data_1)"
   ]
  },
  {
   "cell_type": "code",
   "execution_count": 20,
   "metadata": {
    "tags": []
   },
   "outputs": [],
   "source": [
    "dataframes = [df_0407,df_0415,df_0429,df_0529,df_0415,df_long68,df_long0526,df_061024,df_mace,df_mace_small,df_clean_relaxed,all_data_1,all_data_2,all_data_3]\n",
    "dataframe_names = ['April 4th', 'April 15th','April 29th', 'May 29th','AIMD','May 26 mixed','All AIMD','June 10th','First Mace model','Mace small','Clean relaxed MACE','All data 1','All data 2','All data 3']"
   ]
  },
  {
   "cell_type": "code",
   "execution_count": 21,
   "metadata": {
    "tags": []
   },
   "outputs": [
    {
     "data": {
      "image/png": "[encoded data removed]",
      "text/plain": [
       "<Figure size 640x480 with 1 Axes>"
      ]
     },
     "metadata": {},
     "output_type": "display_data"
    }
   ],
   "source": [
    "ifs.plot_mae_comparison(dataframes,dataframe_names)"
   ]
  },
  {
   "cell_type": "code",
   "execution_count": 22,
   "metadata": {
    "tags": []
   },
   "outputs": [
    {
     "data": {
      "image/png": "[encoded data removed]",
      "text/plain": [
       "<Figure size 640x480 with 1 Axes>"
      ]
     },
     "metadata": {},
     "output_type": "display_data"
    }
   ],
   "source": [
    "ifs.plot_mse_comparison(dataframes,dataframe_names)"
   ]
  },
  {
   "cell_type": "markdown",
   "metadata": {
    "tags": []
   },
   "source": [
    "## Running Geometry optimization with Chgnet"
   ]
  },
  {
   "cell_type": "markdown",
   "metadata": {
    "tags": []
   },
   "source": [
    "### June 21st model on natoms64 NbOC"
   ]
  },
  {
   "cell_type": "code",
   "execution_count": 27,
   "metadata": {
    "tags": []
   },
   "outputs": [
    {
     "name": "stdout",
     "output_type": "stream",
     "text": [
      "CHGNet v0.3.0 initialized with 412,525 parameters\n",
      "CHGNet will run on cpu\n",
      "MLFF vs DFT comparison:\n",
      "Volume: MLFF = 1266.693, DFT = 935.184, Difference (DFT - MLFF) = -331.509\n",
      "Distance between atoms 0 and 1: MLFF = 5.728, DFT = 5.193, Difference (DFT - MLFF) = -0.535\n",
      "Lattice parameters a: MLFF = 12.145, DFT = 10.977, Difference (DFT - MLFF) = -1.168\n",
      "Lattice parameters b: MLFF = 12.145, DFT = 10.977, Difference (DFT - MLFF) = -1.168\n",
      "Lattice parameters c: MLFF = 12.145, DFT = 10.977, Difference (DFT - MLFF) = -1.168\n"
     ]
    },
    {
     "data": {
      "image/png": "[encoded data removed]",
      "text/plain": [
       "<Figure size 640x480 with 2 Axes>"
      ]
     },
     "metadata": {},
     "output_type": "display_data"
    }
   ],
   "source": [
    "model_path = '/home/nacho/NbOC/CHGnet/2024-06-21_20-04-35/bestE_epoch44_e69_f271_s1361_mNA.pth.tar'\n",
    "outcar_path = '/home/nacho/NbOC/vasp/test_set/finished_calcs/struct3_natom64/OUTCAR'\n",
    "traj,struct,last_struct,dft_energy = ifs.optimize(model_path,outcar_path,verbose=False,fmax=0.05)\n",
    "ifs.optimization_summary(struct,last_struct)\n",
    "ifs.plot_bond_distributions(struct,last_struct)"
   ]
  },
  {
   "cell_type": "code",
   "execution_count": 28,
   "metadata": {
    "tags": []
   },
   "outputs": [
    {
     "data": {
      "text/html": [
       "\n",
       "        <iframe\n",
       "            width=\"100%\"\n",
       "            height=\"650\"\n",
       "            src=\"http://127.0.0.1:8050/\"\n",
       "            frameborder=\"0\"\n",
       "            allowfullscreen\n",
       "            \n",
       "        ></iframe>\n",
       "        "
      ],
      "text/plain": [
       "<IPython.lib.display.IFrame at 0x7f99187a2f50>"
      ]
     },
     "metadata": {},
     "output_type": "display_data"
    }
   ],
   "source": [
    "ifs.visualize_trajectory(traj,struct,dft_energy)"
   ]
  },
  {
   "cell_type": "markdown",
   "metadata": {
    "tags": []
   },
   "source": [
    "### June 10th model on natoms64 NbOC "
   ]
  },
  {
   "cell_type": "code",
   "execution_count": null,
   "metadata": {
    "tags": []
   },
   "outputs": [],
   "source": [
    "model_path = '/home/nacho/NbOC/CHGnet/all_data_binary_061024-110624.p/bestE_epoch28_e74_f276_s1343_mNA.pth.tar'\n",
    "outcar_path = '/home/nacho/NbOC/VASP/test_set/finished_calcs/struct3_natom64/OUTCAR'\n",
    "traj,struct,last_struct,dft_energy = ifs.optimize(model_path,outcar_path,verbose=False,fmax=0.05)\n",
    "ifs.optimization_summary(struct,last_struct)\n",
    "ifs.plot_bond_distributions(struct,last_struct)"
   ]
  },
  {
   "cell_type": "code",
   "execution_count": null,
   "metadata": {
    "tags": []
   },
   "outputs": [],
   "source": [
    "ifs.visualize_trajectory(traj,struct,dft_energy)"
   ]
  },
  {
   "cell_type": "markdown",
   "metadata": {
    "tags": []
   },
   "source": [
    "### June 10th , binary AIMD data"
   ]
  },
  {
   "cell_type": "code",
   "execution_count": null,
   "metadata": {},
   "outputs": [],
   "source": [
    "model_path = '/home/nacho/NbOC/CHGnet/all_data_binary_061024-110624.p/bestE_epoch28_e74_f276_s1343_mNA.pth.tar'\n",
    "outcar_path = '/home/nacho/NbOC/binary/NbO_OUTCAR_1/OUTCAR'\n",
    "\n",
    "traj,struct,last_struct,dft_energy = ifs.optimize(model_path,outcar_path,verbose=False,fmax=0.05)"
   ]
  },
  {
   "cell_type": "code",
   "execution_count": null,
   "metadata": {
    "tags": []
   },
   "outputs": [],
   "source": [
    "ifs.visualize_trajectory(traj,struct,dft_energy)"
   ]
  },
  {
   "cell_type": "code",
   "execution_count": null,
   "metadata": {},
   "outputs": [],
   "source": [
    "ifs.plot_bond_distributions(struct,last_struct)"
   ]
  },
  {
   "cell_type": "code",
   "execution_count": null,
   "metadata": {
    "tags": []
   },
   "outputs": [],
   "source": [
    "ifs.optimization_summary(struct,last_struct)"
   ]
  },
  {
   "cell_type": "markdown",
   "metadata": {
    "tags": []
   },
   "source": [
    "### June 10th binary, best forces model "
   ]
  },
  {
   "cell_type": "code",
   "execution_count": null,
   "metadata": {
    "tags": []
   },
   "outputs": [],
   "source": [
    "model_path = '/home/nacho/NbOC/CHGnet/all_data_binary_061024-110624.p/bestF_epoch26_e75_f275_s1335_mNA.pth.tar'\n",
    "outcar_path = '/home/nacho/NbOC/binary/NbO_OUTCAR_1/OUTCAR'\n",
    "traj,struct,last_struct,dft_energy = ifs.optimize(model_path,outcar_path,verbose=False,fmax=0.05)\n",
    "ifs.visualize_trajectory(traj,struct,dft_energy)\n",
    "ifs.optimization_summary(struct,last_struct)"
   ]
  },
  {
   "cell_type": "markdown",
   "metadata": {
    "tags": []
   },
   "source": [
    "### 04/29 Model "
   ]
  },
  {
   "cell_type": "code",
   "execution_count": null,
   "metadata": {},
   "outputs": [],
   "source": [
    "model_path = '/home/nacho/NbOC/CHGnet/04-29-2024/bestE_epoch40_e54_f723_s1061_mNA.pth.tar'\n",
    "outcar_path = '/home/nacho/NbOC/binary/NbO_OUTCAR_1/OUTCAR'\n",
    "\n",
    "traj,struct,last_struct,dft_energy = ifs.optimize(model_path,outcar_path,verbose=False,fmax=0.05)"
   ]
  },
  {
   "cell_type": "code",
   "execution_count": null,
   "metadata": {
    "tags": []
   },
   "outputs": [],
   "source": [
    "ifs.visualize_trajectory(traj,struct,dft_energy)"
   ]
  },
  {
   "cell_type": "code",
   "execution_count": null,
   "metadata": {
    "tags": []
   },
   "outputs": [],
   "source": [
    "ifs.optimization_summary(struct,last_struct)"
   ]
  },
  {
   "cell_type": "markdown",
   "metadata": {
    "tags": []
   },
   "source": [
    "### Only binary oxides trained. "
   ]
  },
  {
   "cell_type": "code",
   "execution_count": null,
   "metadata": {
    "tags": []
   },
   "outputs": [],
   "source": [
    "model_path = '/home/nacho/NbOC/CHGnet/binary_061024-100624.p/bestE_epoch45_e5_f87_s170_mNA.pth.tar'\n",
    "outcar_path = '/home/nacho/NbOC/binary/NbO_OUTCAR_1/OUTCAR'\n",
    "traj,struct,last_struct,dft_energy = ifs.optimize(model_path,outcar_path,verbose=False,fmax=0.05)\n",
    "ifs.visualize_trajectory(traj,struct,dft_energy)\n",
    "ifs.optimization_summary(struct,last_struct)"
   ]
  },
  {
   "cell_type": "markdown",
   "metadata": {
    "tags": []
   },
   "source": [
    "## MACE optimization "
   ]
  },
  {
   "cell_type": "code",
   "execution_count": null,
   "metadata": {
    "tags": []
   },
   "outputs": [],
   "source": [
    "model_path = '/home/nacho/NbOC/MACE/2024-01-07-mace-128-L2_epoch-199.model'\n",
    "outcar_path = '/home/nacho/NbOC/VASP/test_set/finished_calcs/struct3_natom64/OUTCAR'\n",
    "opt_struct,dft_struct = ifs.mace_optimize(model_path,outcar_path,fmax=.001)"
   ]
  },
  {
   "cell_type": "code",
   "execution_count": null,
   "metadata": {},
   "outputs": [],
   "source": [
    "ifs.plot_bond_distributions(opt_struct,dft_struct)\n",
    "ifs.optimization_summary(opt_struct,dft_struct)"
   ]
  },
  {
   "cell_type": "markdown",
   "metadata": {},
   "source": [
    "## Active Learning: Testing the variance of models."
   ]
  },
  {
   "cell_type": "code",
   "execution_count": 34,
   "metadata": {
    "tags": []
   },
   "outputs": [
    {
     "ename": "TypeError",
     "evalue": "unsupported operand type(s) for +: 'builtin_function_or_method' and 'str'",
     "output_type": "error",
     "traceback": [
      "\u001b[0;31m---------------------------------------------------------------------------\u001b[0m",
      "\u001b[0;31mTypeError\u001b[0m                                 Traceback (most recent call last)",
      "Cell \u001b[0;32mIn[34], line 3\u001b[0m\n\u001b[1;32m      1\u001b[0m \u001b[38;5;28;01mimport\u001b[39;00m \u001b[38;5;21;01mos\u001b[39;00m \n\u001b[0;32m----> 3\u001b[0m model1 \u001b[38;5;241m=\u001b[39m \u001b[38;5;28;43mdir\u001b[39;49m\u001b[43m \u001b[49m\u001b[38;5;241;43m+\u001b[39;49m\u001b[43m \u001b[49m\u001b[38;5;124;43m'\u001b[39;49m\u001b[38;5;124;43mall_data_binary_061024-1706241.p/bestE_epoch26_e74_f281_s1351_mNA.pth.tar\u001b[39;49m\u001b[38;5;124;43m'\u001b[39;49m\n\u001b[1;32m      4\u001b[0m model2 \u001b[38;5;241m=\u001b[39m \u001b[38;5;28mdir\u001b[39m \u001b[38;5;241m+\u001b[39m \u001b[38;5;124m'\u001b[39m\u001b[38;5;124mall_data_binary_061024-1706242.p/bestE_epoch49_e75_f279_s1289_mNA.pth.tar\u001b[39m\u001b[38;5;124m'\u001b[39m\n\u001b[1;32m      5\u001b[0m model3 \u001b[38;5;241m=\u001b[39m \u001b[38;5;28mdir\u001b[39m \u001b[38;5;241m+\u001b[39m \u001b[38;5;124m'\u001b[39m\u001b[38;5;124mall_data_binary_061024-1706243.p/bestE_epoch36_e73_f275_s1306_mNA.pth.tar\u001b[39m\u001b[38;5;124m'\u001b[39m\n",
      "\u001b[0;31mTypeError\u001b[0m: unsupported operand type(s) for +: 'builtin_function_or_method' and 'str'"
     ]
    }
   ],
   "source": [
    "import os \n",
    "\n",
    "model1 = dir + 'all_data_binary_061024-1706241.p/bestE_epoch26_e74_f281_s1351_mNA.pth.tar'\n",
    "model2 = dir + 'all_data_binary_061024-1706242.p/bestE_epoch49_e75_f279_s1289_mNA.pth.tar'\n",
    "model3 = dir + 'all_data_binary_061024-1706243.p/bestE_epoch36_e73_f275_s1306_mNA.pth.tar'\n",
    "\n",
    "stds_old = []\n",
    "dirs = '/home/nacho/NbOC/VASP/test_set/finished_calcs/'\n",
    "for file in os.listdir(dirs):\n",
    "    outcar = dirs + file + '/POSCAR'\n",
    "    energy,std = ifs.energy_variance(outcar,model1,model2,model3)\n",
    "    stds_old.append(std)\n",
    "    print(file,std)"
   ]
  },
  {
   "cell_type": "code",
   "execution_count": 35,
   "metadata": {
    "tags": []
   },
   "outputs": [
    {
     "ename": "FileNotFoundError",
     "evalue": "[Errno 2] No such file or directory: '/home/nacho/NbOC/VASP/test_set/finished_calcs/'",
     "output_type": "error",
     "traceback": [
      "\u001b[0;31m---------------------------------------------------------------------------\u001b[0m",
      "\u001b[0;31mFileNotFoundError\u001b[0m                         Traceback (most recent call last)",
      "Cell \u001b[0;32mIn[35], line 8\u001b[0m\n\u001b[1;32m      6\u001b[0m files \u001b[38;5;241m=\u001b[39m []\n\u001b[1;32m      7\u001b[0m dirs \u001b[38;5;241m=\u001b[39m \u001b[38;5;124m'\u001b[39m\u001b[38;5;124m/home/nacho/NbOC/VASP/test_set/finished_calcs/\u001b[39m\u001b[38;5;124m'\u001b[39m\n\u001b[0;32m----> 8\u001b[0m \u001b[38;5;28;01mfor\u001b[39;00m file \u001b[38;5;129;01min\u001b[39;00m \u001b[43mos\u001b[49m\u001b[38;5;241;43m.\u001b[39;49m\u001b[43mlistdir\u001b[49m\u001b[43m(\u001b[49m\u001b[43mdirs\u001b[49m\u001b[43m)\u001b[49m:\n\u001b[1;32m      9\u001b[0m     outcar \u001b[38;5;241m=\u001b[39m dirs \u001b[38;5;241m+\u001b[39m file \u001b[38;5;241m+\u001b[39m \u001b[38;5;124m'\u001b[39m\u001b[38;5;124m/POSCAR\u001b[39m\u001b[38;5;124m'\u001b[39m\n\u001b[1;32m     10\u001b[0m     energy,std \u001b[38;5;241m=\u001b[39m ifs\u001b[38;5;241m.\u001b[39menergy_variance(outcar,model1,model2,model3)\n",
      "\u001b[0;31mFileNotFoundError\u001b[0m: [Errno 2] No such file or directory: '/home/nacho/NbOC/VASP/test_set/finished_calcs/'"
     ]
    }
   ],
   "source": [
    "model1='/home/nacho/NbOC/CHGnet/2024-06-21_20-04-35/bestE_epoch44_e69_f271_s1361_mNA.pth.tar'\n",
    "model2='/home/nacho/NbOC/CHGnet/2024-06-21_20-04-37/bestE_epoch28_e71_f276_s1349_mNA.pth.tar'\n",
    "model3='/home/nacho/NbOC/CHGnet/2024-06-21_20-04-42/bestE_epoch37_e70_f813_s1407_mNA.pth.tar'\n",
    "\n",
    "stds_new = []\n",
    "files = []\n",
    "dirs = '/home/nacho/NbOC/VASP/test_set/finished_calcs/'\n",
    "for file in os.listdir(dirs):\n",
    "    outcar = dirs + file + '/POSCAR'\n",
    "    energy,std = ifs.energy_variance(outcar,model1,model2,model3)\n",
    "    stds_new.append(std)\n",
    "    files.append(file)\n",
    "    print(file,std)"
   ]
  },
  {
   "cell_type": "code",
   "execution_count": 36,
   "metadata": {
    "tags": []
   },
   "outputs": [
    {
     "ename": "NameError",
     "evalue": "name 'stds_old' is not defined",
     "output_type": "error",
     "traceback": [
      "\u001b[0;31m---------------------------------------------------------------------------\u001b[0m",
      "\u001b[0;31mNameError\u001b[0m                                 Traceback (most recent call last)",
      "Cell \u001b[0;32mIn[36], line 1\u001b[0m\n\u001b[0;32m----> 1\u001b[0m \u001b[38;5;28mlen\u001b[39m(\u001b[43mstds_old\u001b[49m)\n",
      "\u001b[0;31mNameError\u001b[0m: name 'stds_old' is not defined"
     ]
    }
   ],
   "source": [
    "len(stds_old)"
   ]
  },
  {
   "cell_type": "code",
   "execution_count": 37,
   "metadata": {
    "tags": []
   },
   "outputs": [
    {
     "ename": "NameError",
     "evalue": "name 'stds_old' is not defined",
     "output_type": "error",
     "traceback": [
      "\u001b[0;31m---------------------------------------------------------------------------\u001b[0m",
      "\u001b[0;31mNameError\u001b[0m                                 Traceback (most recent call last)",
      "Cell \u001b[0;32mIn[37], line 6\u001b[0m\n\u001b[1;32m      1\u001b[0m \u001b[38;5;66;03m# X-axis labels\u001b[39;00m\n\u001b[1;32m      2\u001b[0m \u001b[38;5;66;03m# X-axis labels\u001b[39;00m\n\u001b[1;32m      5\u001b[0m std_devs_1 \u001b[38;5;241m=\u001b[39m stds_new\n\u001b[0;32m----> 6\u001b[0m std_devs_2 \u001b[38;5;241m=\u001b[39m \u001b[43mstds_old\u001b[49m\n\u001b[1;32m      8\u001b[0m x_labels \u001b[38;5;241m=\u001b[39m [\u001b[38;5;124m'\u001b[39m\u001b[38;5;124mstruct1_natom4\u001b[39m\u001b[38;5;124m'\u001b[39m, \u001b[38;5;124m'\u001b[39m\u001b[38;5;124mtest\u001b[39m\u001b[38;5;124m'\u001b[39m, \u001b[38;5;124m'\u001b[39m\u001b[38;5;124mstruct5_natom256\u001b[39m\u001b[38;5;124m'\u001b[39m, \u001b[38;5;124m'\u001b[39m\u001b[38;5;124mstruct4_natom16\u001b[39m\u001b[38;5;124m'\u001b[39m, \u001b[38;5;124m'\u001b[39m\u001b[38;5;124mstruct5_natom4\u001b[39m\u001b[38;5;124m'\u001b[39m, \n\u001b[1;32m      9\u001b[0m             \u001b[38;5;124m'\u001b[39m\u001b[38;5;124mstruct2_natom16\u001b[39m\u001b[38;5;124m'\u001b[39m, \u001b[38;5;124m'\u001b[39m\u001b[38;5;124mstruct2_natom64\u001b[39m\u001b[38;5;124m'\u001b[39m, \u001b[38;5;124m'\u001b[39m\u001b[38;5;124mstruct3_natom256\u001b[39m\u001b[38;5;124m'\u001b[39m, \u001b[38;5;124m'\u001b[39m\u001b[38;5;124mstruct4_natom256\u001b[39m\u001b[38;5;124m'\u001b[39m, \n\u001b[1;32m     10\u001b[0m             \u001b[38;5;124m'\u001b[39m\u001b[38;5;124mstruct4_natom4\u001b[39m\u001b[38;5;124m'\u001b[39m, \u001b[38;5;124m'\u001b[39m\u001b[38;5;124mstruct1_natom16\u001b[39m\u001b[38;5;124m'\u001b[39m, \u001b[38;5;124m'\u001b[39m\u001b[38;5;124mstruct2_natom4\u001b[39m\u001b[38;5;124m'\u001b[39m, \u001b[38;5;124m'\u001b[39m\u001b[38;5;124mstruct3_natom16\u001b[39m\u001b[38;5;124m'\u001b[39m, \n\u001b[1;32m     11\u001b[0m             \u001b[38;5;124m'\u001b[39m\u001b[38;5;124mstruct3_natom4\u001b[39m\u001b[38;5;124m'\u001b[39m, \u001b[38;5;124m'\u001b[39m\u001b[38;5;124mstruct3_natom64\u001b[39m\u001b[38;5;124m'\u001b[39m, \u001b[38;5;124m'\u001b[39m\u001b[38;5;124mstruct5_natom16\u001b[39m\u001b[38;5;124m'\u001b[39m]\n\u001b[1;32m     13\u001b[0m x_labels \u001b[38;5;241m=\u001b[39m files\n",
      "\u001b[0;31mNameError\u001b[0m: name 'stds_old' is not defined"
     ]
    }
   ],
   "source": [
    "# X-axis labels\n",
    "# X-axis labels\n",
    "\n",
    "\n",
    "std_devs_1 = stds_new\n",
    "std_devs_2 = stds_old\n",
    "\n",
    "x_labels = ['struct1_natom4', 'test', 'struct5_natom256', 'struct4_natom16', 'struct5_natom4', \n",
    "            'struct2_natom16', 'struct2_natom64', 'struct3_natom256', 'struct4_natom256', \n",
    "            'struct4_natom4', 'struct1_natom16', 'struct2_natom4', 'struct3_natom16', \n",
    "            'struct3_natom4', 'struct3_natom64', 'struct5_natom16']\n",
    "\n",
    "x_labels = files\n",
    "\n",
    "# Indices for the x-axis\n",
    "indices = np.arange(len(std_devs_1))\n",
    "\n",
    "# Bar width\n",
    "bar_width = 0.35\n",
    "\n",
    "# Plotting\n",
    "plt.figure(figsize=(14, 7))\n",
    "plt.bar(indices - bar_width/2, std_devs_1, bar_width, label='New Model', color='b')\n",
    "plt.bar(indices + bar_width/2, std_devs_2, bar_width, label='Old Model', color='r')\n",
    "\n",
    "# Adding titles and labels\n",
    "plt.title('Comparison of Standard Deviations of Models in the inference of data')\n",
    "plt.xlabel('Structure')\n",
    "plt.ylabel('Standard Deviation')\n",
    "plt.xticks(indices, x_labels, rotation=45, ha='right')\n",
    "plt.legend()\n",
    "plt.grid(True)\n",
    "\n",
    "# Show plot\n",
    "plt.tight_layout()\n",
    "plt.show()"
   ]
  },
  {
   "cell_type": "code",
   "execution_count": null,
   "metadata": {},
   "outputs": [],
   "source": []
  }
 ],
 "metadata": {
  "kernelspec": {
   "display_name": "general",
   "language": "python",
   "name": "general"
  },
  "language_info": {
   "codemirror_mode": {
    "name": "ipython",
    "version": 3
   },
   "file_extension": ".py",
   "mimetype": "text/x-python",
   "name": "python",
   "nbconvert_exporter": "python",
   "pygments_lexer": "ipython3",
   "version": "3.10.13"
  },
  "toc-autonumbering": true
 },
 "nbformat": 4,
 "nbformat_minor": 4
}
